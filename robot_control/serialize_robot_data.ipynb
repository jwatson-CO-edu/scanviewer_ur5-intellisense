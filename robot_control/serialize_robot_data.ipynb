{
 "cells": [
  {
   "cell_type": "code",
   "execution_count": 1,
   "metadata": {},
   "outputs": [],
   "source": [
    "# ~~ Imports ~~\n",
    "import os\n",
    "# ~ Special ~\n",
    "from PIL import Image\n",
    "# ~ Local ~\n",
    "from pkl_ops import *"
   ]
  },
  {
   "cell_type": "code",
   "execution_count": 2,
   "metadata": {},
   "outputs": [],
   "source": [
    "# == Program Functions ==\n",
    "\n",
    "def file_EXT( fName ):\n",
    "    \"\"\" Return the capitalized file extension \"\"\"\n",
    "    return os.path.splitext( fName )[1][1:].upper()\n",
    "\n",
    "def list_to_CSV_line( dataList ):\n",
    "    \"\"\" Put the list into a string \"\"\"\n",
    "    rtnStr = \"\"\n",
    "    dataLen = len( dataList )\n",
    "    for i , elem in enumerate( dataList ):\n",
    "        rtnStr += str( elem )\n",
    "        if i < dataLen - 1:\n",
    "             rtnStr += ','\n",
    "    return rtnStr\n",
    "\n",
    "# __ End Func __"
   ]
  },
  {
   "cell_type": "code",
   "execution_count": 3,
   "metadata": {},
   "outputs": [
    {
     "name": "stdout",
     "output_type": "stream",
     "text": [
      "tallDino_EAST <class 'dict'>\n",
      "tallDino_SOUTH <class 'dict'>\n",
      "tallDino_WEST <class 'dict'>\n",
      "tallDino_NORTH <class 'dict'>\n",
      "\n",
      "cam_yBasis <class 'list'>\n",
      "cam_xBasis <class 'list'>\n",
      "cloud_objs <class 'list'>\n",
      "cameraXform <class 'list'>\n",
      "cam_zBasis <class 'list'>\n",
      "image <class 'bytes'>\n",
      "cameraPos <class 'list'>\n",
      "imageName <class 'str'>\n"
     ]
    }
   ],
   "source": [
    "captureData = unpickle_dict( \"tallDno.pkl\" )\n",
    "for key , val in captureData.items():\n",
    "    print( key , type( val ) )\n",
    "print()\n",
    "\n",
    "for key , val in captureData['tallDino_NORTH'].items():\n",
    "    print( key , type( val ) )"
   ]
  },
  {
   "cell_type": "code",
   "execution_count": 4,
   "metadata": {},
   "outputs": [
    {
     "name": "stdout",
     "output_type": "stream",
     "text": [
      "Processing tallDino_EAST ...\n",
      "Processing tallDino_SOUTH ...\n",
      "Processing tallDino_WEST ...\n",
      "Processing tallDino_NORTH ...\n"
     ]
    }
   ],
   "source": [
    "# 1. For each shot\n",
    "for shotName , dataDict in captureData.items():\n",
    "    print( \"Processing\" , shotName , \"...\" )\n",
    "    # 2. Conver to BMP\n",
    "    img = Image.open( dataDict['imageName'] )\n",
    "    img.save( shotName + \".bmp\" )\n",
    "    # 3. Record data\n",
    "    f = open( shotName + \".txt\" , 'w' )\n",
    "    f.write( shotName + \".bmp\\n\" )\n",
    "    f.write( list_to_CSV_line( dataDict['cameraPos'] ) + '\\n' )\n",
    "    f.write( list_to_CSV_line( dataDict['cam_xBasis'] ) + '\\n' )\n",
    "    f.write( list_to_CSV_line( dataDict['cam_yBasis'] ) + '\\n' )\n",
    "    f.write( list_to_CSV_line( dataDict['cam_zBasis'] ) + '\\n' )\n",
    "    for obj in dataDict['cloud_objs']:\n",
    "        f.write( \"OBJ\\n\" )\n",
    "        for pnt in obj:\n",
    "            f.write( list_to_CSV_line( pnt ) + '\\n' )\n",
    "    f.close()"
   ]
  },
  {
   "cell_type": "code",
   "execution_count": null,
   "metadata": {},
   "outputs": [],
   "source": [
    "\n"
   ]
  }
 ],
 "metadata": {
  "kernelspec": {
   "display_name": "Python 3",
   "language": "python",
   "name": "python3"
  },
  "language_info": {
   "codemirror_mode": {
    "name": "ipython",
    "version": 3
   },
   "file_extension": ".py",
   "mimetype": "text/x-python",
   "name": "python",
   "nbconvert_exporter": "python",
   "pygments_lexer": "ipython3",
   "version": "3.5.2"
  }
 },
 "nbformat": 4,
 "nbformat_minor": 2
}
