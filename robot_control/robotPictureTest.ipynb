{
 "cells": [
  {
   "cell_type": "markdown",
   "metadata": {},
   "source": [
    "# Load Libs"
   ]
  },
  {
   "cell_type": "code",
   "execution_count": 1,
   "metadata": {},
   "outputs": [
    {
     "name": "stdout",
     "output_type": "stream",
     "text": [
      "/home/nvidia/rm/interfaces/robot_interface/ur5.py\n",
      "Libs loaded!\n"
     ]
    }
   ],
   "source": [
    "from os.path import expanduser , join\n",
    "home = expanduser(\"~\")\n",
    "# print( home )\n",
    "\n",
    "import sys\n",
    "sys.path.append( join( home , 'rm/interfaces/camera_interface'      ) ) \n",
    "sys.path.append( join( home , 'rm/interfaces/robot_interface'       ) )\n",
    "sys.path.append( join( home , 'rm/interfaces/gripper_interface'     ) )\n",
    "sys.path.append( join( home , 'rm/interfaces/applications'          ) )\n",
    "sys.path.append( join( home , 'rm/interfaces/applications/WRS_2018' ) )\n",
    "sys.path.append( join( home , 'rm/interfaces/force_interface'       ) )\n",
    "sys.path.append( home )\n",
    "\n",
    "import matplotlib.pyplot as plt\n",
    "import numpy as np\n",
    "import xmlrpc.client\n",
    "import pickle\n",
    "from math import radians,pi,atan2,tan\n",
    "\n",
    "from time import sleep\n",
    "import cv2\n",
    "\n",
    "from HomogXforms import *\n",
    "from viewer import *\n",
    "from force_sensor import *\n",
    "# from ur5 import *\n",
    "import ur5 ; print( ur5.__file__ )\n",
    "\n",
    "from gripper import *\n",
    "\n",
    "from point_cloud_processing import *\n",
    "from realsense_camera import *\n",
    "\n",
    "# import gripper\n",
    "# print( gripper.__file__ )\n",
    "\n",
    "from pick_tray import *\n",
    "\n",
    "# ~~~~~~~~~~~~~~~~~~~~~~~~~~~~~~~~~~~~~~~~~~~~~~~~~~~~~~~~~~~~~~~~~~~~~~~~~~~~~~~~~~~~~~~~~~~~~~~~~~~~~~~~~~~~~~~~~~~~~~\n",
    "\n",
    "print( \"Libs loaded!\" )"
   ]
  },
  {
   "cell_type": "markdown",
   "metadata": {},
   "source": [
    "# Load Functions"
   ]
  },
  {
   "cell_type": "code",
   "execution_count": 2,
   "metadata": {},
   "outputs": [
    {
     "name": "stdout",
     "output_type": "stream",
     "text": [
      "Functions loaded!\n"
     ]
    }
   ],
   "source": [
    "# ~~ File Operations ~~\n",
    "\n",
    "def unpickle_dict( filename ):\n",
    "    \"\"\" Return the dictionary stored in the file , Otherwise return an empty dictionary if there were no items \"\"\"\n",
    "    try:\n",
    "        infile = open( filename , 'rb' )\n",
    "        rtnDict = pickle.load( infile )\n",
    "        if len( rtnDict ) > 0:\n",
    "            return rtnDict\n",
    "        else:\n",
    "            return {}\n",
    "    except FileNotFoundError:\n",
    "        return {}\n",
    "    \n",
    "def pickle_struct( pStruct , filename ):\n",
    "    \"\"\" Pickle 'pStruct' to 'filename' \"\"\"\n",
    "    outfile = open( filename , 'wb' )\n",
    "    pickle.dump( pStruct , outfile )\n",
    "    outfile.close()\n",
    "    print( \"Saved:\" , filename )\n",
    "    \n",
    "# ~~ Robot Control ~~\n",
    "\n",
    "def straighten_wrist():\n",
    "    \"\"\" Straighten the wrist pose such that the effector is pointed straight down \"\"\"\n",
    "    cur_pose = np.around( get_tcp_pose() , 3 )\n",
    "    cur_pose[3:] = 3.14, 0.0 , 0.0\n",
    "    movel( cur_pose )\n",
    "    \n",
    "# ~~~~~~~~~~~~~~~~~~~~~~~~~~~~~~~~~~~~~~~~~~~~~~~~~~~~~~~~~~~~~~~~~~~~~~~~~~~~~~~~~~~~~~~~~~~~~~~~~~~~~~~~~~~~~~~~~~~~~~\n",
    "\n",
    "print( \"Functions loaded!\" )"
   ]
  },
  {
   "cell_type": "markdown",
   "metadata": {},
   "source": [
    "# Program Vars"
   ]
  },
  {
   "cell_type": "code",
   "execution_count": null,
   "metadata": {},
   "outputs": [],
   "source": [
    "WAYPOINTPATH = \"picture_waypoints.pkl\"\n",
    "\n",
    "pose_dict = unpickle_dict( WAYPOINTPATH ) \n",
    "\n",
    "# ~~ Hardcoded Points ~~\n",
    "\n",
    "pose_dict[\"HOME_JA\"] = [ 0 , -pi/2 , 0 , -pi/2 , 0 , 0 ]"
   ]
  },
  {
   "cell_type": "markdown",
   "metadata": {},
   "source": [
    "# Common Functions"
   ]
  },
  {
   "cell_type": "code",
   "execution_count": 5,
   "metadata": {},
   "outputs": [],
   "source": [
    "straighten_wrist()"
   ]
  },
  {
   "cell_type": "code",
   "execution_count": 3,
   "metadata": {},
   "outputs": [
    {
     "data": {
      "text/plain": [
       "1"
      ]
     },
     "execution_count": 3,
     "metadata": {},
     "output_type": "execute_result"
    }
   ],
   "source": [
    "open_gripper()"
   ]
  },
  {
   "cell_type": "code",
   "execution_count": 4,
   "metadata": {},
   "outputs": [
    {
     "data": {
      "text/plain": [
       "1"
      ]
     },
     "execution_count": 4,
     "metadata": {},
     "output_type": "execute_result"
    }
   ],
   "source": [
    "close_gripper()"
   ]
  },
  {
   "cell_type": "markdown",
   "metadata": {},
   "source": [
    "# Edit Waypoints"
   ]
  },
  {
   "cell_type": "code",
   "execution_count": null,
   "metadata": {},
   "outputs": [],
   "source": [
    "pickle_struct( pose_dict , WAYPOINTPATH )"
   ]
  },
  {
   "cell_type": "code",
   "execution_count": null,
   "metadata": {},
   "outputs": [],
   "source": []
  }
 ],
 "metadata": {
  "kernelspec": {
   "display_name": "Python 3",
   "language": "python",
   "name": "python3"
  },
  "language_info": {
   "codemirror_mode": {
    "name": "ipython",
    "version": 3
   },
   "file_extension": ".py",
   "mimetype": "text/x-python",
   "name": "python",
   "nbconvert_exporter": "python",
   "pygments_lexer": "ipython3",
   "version": "3.5.2"
  }
 },
 "nbformat": 4,
 "nbformat_minor": 2
}
