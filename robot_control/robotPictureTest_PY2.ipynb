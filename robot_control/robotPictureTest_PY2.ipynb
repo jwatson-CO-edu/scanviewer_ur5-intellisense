{
 "cells": [
  {
   "cell_type": "markdown",
   "metadata": {},
   "source": [
    "# Init"
   ]
  },
  {
   "cell_type": "code",
   "execution_count": 1,
   "metadata": {},
   "outputs": [
    {
     "ename": "ImportError",
     "evalue": "No module named pyntcloud",
     "output_type": "error",
     "traceback": [
      "\u001b[0;31m---------------------------------------------------------------------------\u001b[0m",
      "\u001b[0;31mImportError\u001b[0m                               Traceback (most recent call last)",
      "\u001b[0;32m<ipython-input-1-ec3579e7007d>\u001b[0m in \u001b[0;36m<module>\u001b[0;34m()\u001b[0m\n\u001b[1;32m     24\u001b[0m \u001b[0;34m\u001b[0m\u001b[0m\n\u001b[1;32m     25\u001b[0m \u001b[0;32mfrom\u001b[0m \u001b[0mHomogXforms\u001b[0m \u001b[0;32mimport\u001b[0m \u001b[0;34m*\u001b[0m\u001b[0;34m\u001b[0m\u001b[0m\n\u001b[0;32m---> 26\u001b[0;31m \u001b[0;32mfrom\u001b[0m \u001b[0mviewer\u001b[0m \u001b[0;32mimport\u001b[0m \u001b[0;34m*\u001b[0m\u001b[0;34m\u001b[0m\u001b[0m\n\u001b[0m\u001b[1;32m     27\u001b[0m \u001b[0;32mfrom\u001b[0m \u001b[0mforce_sensor\u001b[0m \u001b[0;32mimport\u001b[0m \u001b[0;34m*\u001b[0m\u001b[0;34m\u001b[0m\u001b[0m\n\u001b[1;32m     28\u001b[0m \u001b[0;31m# from ur5 import *\u001b[0m\u001b[0;34m\u001b[0m\u001b[0;34m\u001b[0m\u001b[0m\n",
      "\u001b[0;32m/home/nvidia/rm/interfaces/camera_interface/viewer.py\u001b[0m in \u001b[0;36m<module>\u001b[0;34m()\u001b[0m\n\u001b[1;32m      1\u001b[0m \u001b[0;32mimport\u001b[0m \u001b[0mnumpy\u001b[0m \u001b[0;32mas\u001b[0m \u001b[0mnp\u001b[0m\u001b[0;34m\u001b[0m\u001b[0m\n\u001b[1;32m      2\u001b[0m \u001b[0;32mimport\u001b[0m \u001b[0mpandas\u001b[0m \u001b[0;32mas\u001b[0m \u001b[0mpd\u001b[0m\u001b[0;34m\u001b[0m\u001b[0m\n\u001b[0;32m----> 3\u001b[0;31m \u001b[0;32mimport\u001b[0m \u001b[0mpyntcloud\u001b[0m \u001b[0;31m# /home/nvidia/.local/lib/python3.5/site-packages/pyntcloud\u001b[0m\u001b[0;34m\u001b[0m\u001b[0m\n\u001b[0m\u001b[1;32m      4\u001b[0m \u001b[0;32mfrom\u001b[0m \u001b[0mpyntcloud\u001b[0m \u001b[0;32mimport\u001b[0m \u001b[0mPyntCloud\u001b[0m\u001b[0;34m\u001b[0m\u001b[0m\n\u001b[1;32m      5\u001b[0m \u001b[0;34m\u001b[0m\u001b[0m\n",
      "\u001b[0;31mImportError\u001b[0m: No module named pyntcloud"
     ]
    }
   ],
   "source": [
    "## ~~~ LOAD LIBRARIES ~~~\n",
    "\n",
    "from os.path import expanduser , join\n",
    "home = expanduser(\"~\")\n",
    "# print( home )\n",
    "\n",
    "import sys\n",
    "sys.path.append( join( home , 'rm/interfaces/camera_interface'      ) ) \n",
    "sys.path.append( join( home , 'rm/interfaces/robot_interface'       ) )\n",
    "sys.path.append( join( home , 'rm/interfaces/gripper_interface'     ) )\n",
    "sys.path.append( join( home , 'rm/interfaces/applications'          ) )\n",
    "sys.path.append( join( home , 'rm/interfaces/applications/WRS_2018' ) )\n",
    "sys.path.append( join( home , 'rm/interfaces/force_interface'       ) )\n",
    "sys.path.append( home )\n",
    "\n",
    "import matplotlib.pyplot as plt\n",
    "import numpy as np\n",
    "import xmlrpc.client\n",
    "import pickle\n",
    "from math import radians,pi,atan2,tan\n",
    "\n",
    "from time import sleep\n",
    "import cv2\n",
    "\n",
    "from HomogXforms import *\n",
    "from viewer import *\n",
    "from force_sensor import *\n",
    "# from ur5 import *\n",
    "import ur5 ; print( ur5.__file__ )\n",
    "\n",
    "from gripper import *\n",
    "\n",
    "from point_cloud_processing import *\n",
    "from realsense_camera import *\n",
    "\n",
    "# import gripper\n",
    "# print( gripper.__file__ )\n",
    "\n",
    "from pick_tray import *\n",
    "\n",
    "# ~~~~~~~~~~~~~~~~~~~~~~~~~~~~~~~~~~~~~~~~~~~~~~~~~~~~~~~~~~~~~~~~~~~~~~~~~~~~~~~~~~~~~~~~~~~~~~~~~~~~~~~~~~~~~~~~~~~~~~\n",
    "\n",
    "print( \"Libs loaded!\" )\n"
   ]
  },
  {
   "cell_type": "code",
   "execution_count": 1,
   "metadata": {},
   "outputs": [
    {
     "name": "stdout",
     "output_type": "stream",
     "text": [
      "Functions loaded!\n"
     ]
    }
   ],
   "source": [
    "## ~~~ LOAD FUNCTIONS ~~~\n",
    "\n",
    "# ~~ File Operations ~~\n",
    "\n",
    "def unpickle_dict( filename ):\n",
    "    \"\"\" Return the dictionary stored in the file , Otherwise return an empty dictionary if there were no items \"\"\"\n",
    "    try:\n",
    "        infile = open( filename , 'rb' )\n",
    "        rtnDict = pickle.load( infile )\n",
    "        if len( rtnDict ) > 0:\n",
    "            return rtnDict\n",
    "        else:\n",
    "            return {}\n",
    "    except FileNotFoundError:\n",
    "        return {}\n",
    "    \n",
    "def pickle_struct( pStruct , filename ):\n",
    "    \"\"\" Pickle 'pStruct' to 'filename' \"\"\"\n",
    "    outfile = open( filename , 'wb' )\n",
    "    pickle.dump( pStruct , outfile )\n",
    "    outfile.close()\n",
    "    print( \"Saved:\" , filename )\n",
    "    \n",
    "# ~~ Robot Control ~~\n",
    "\n",
    "def straighten_wrist():\n",
    "    \"\"\" Straighten the wrist pose such that the effector is pointed straight down \"\"\"\n",
    "    cur_pose = np.around( get_tcp_pose() , 3 )\n",
    "    cur_pose[3:] = 3.14, 0.0 , 0.0\n",
    "    movel( cur_pose )\n",
    "    \n",
    "# ~~~~~~~~~~~~~~~~~~~~~~~~~~~~~~~~~~~~~~~~~~~~~~~~~~~~~~~~~~~~~~~~~~~~~~~~~~~~~~~~~~~~~~~~~~~~~~~~~~~~~~~~~~~~~~~~~~~~~~\n",
    "\n",
    "print( \"Functions loaded!\" )"
   ]
  },
  {
   "cell_type": "code",
   "execution_count": 16,
   "metadata": {},
   "outputs": [],
   "source": [
    "## ~~~ PROGRAM VARS ~~~\n",
    "\n",
    "WAYPOINTPATH = \"picture_waypoints.pkl\"\n",
    "\n",
    "pose_dict = unpickle_dict( WAYPOINTPATH ) \n",
    "\n",
    "# ~~ Hardcoded Points ~~\n",
    "\n",
    "pose_dict[\"HOME_JA\"] = [ 0 , -pi/2 , 0 , -pi/2 , 0 , 0 ]\n"
   ]
  },
  {
   "cell_type": "code",
   "execution_count": 2,
   "metadata": {},
   "outputs": [
    {
     "ename": "NameError",
     "evalue": "global name 'np' is not defined",
     "output_type": "error",
     "traceback": [
      "\u001b[0;31m---------------------------------------------------------------------------\u001b[0m",
      "\u001b[0;31mNameError\u001b[0m                                 Traceback (most recent call last)",
      "\u001b[0;32m<ipython-input-2-798951da6635>\u001b[0m in \u001b[0;36m<module>\u001b[0;34m()\u001b[0m\n\u001b[1;32m      1\u001b[0m \u001b[0;31m## ~~~ Common Functions ~~~\u001b[0m\u001b[0;34m\u001b[0m\u001b[0;34m\u001b[0m\u001b[0m\n\u001b[0;32m----> 2\u001b[0;31m \u001b[0mstraighten_wrist\u001b[0m\u001b[0;34m(\u001b[0m\u001b[0;34m)\u001b[0m\u001b[0;34m\u001b[0m\u001b[0m\n\u001b[0m",
      "\u001b[0;32m<ipython-input-1-bd06b29462a1>\u001b[0m in \u001b[0;36mstraighten_wrist\u001b[0;34m()\u001b[0m\n\u001b[1;32m     26\u001b[0m \u001b[0;32mdef\u001b[0m \u001b[0mstraighten_wrist\u001b[0m\u001b[0;34m(\u001b[0m\u001b[0;34m)\u001b[0m\u001b[0;34m:\u001b[0m\u001b[0;34m\u001b[0m\u001b[0m\n\u001b[1;32m     27\u001b[0m     \u001b[0;34m\"\"\" Straighten the wrist pose such that the effector is pointed straight down \"\"\"\u001b[0m\u001b[0;34m\u001b[0m\u001b[0m\n\u001b[0;32m---> 28\u001b[0;31m     \u001b[0mcur_pose\u001b[0m \u001b[0;34m=\u001b[0m \u001b[0mnp\u001b[0m\u001b[0;34m.\u001b[0m\u001b[0maround\u001b[0m\u001b[0;34m(\u001b[0m \u001b[0mget_tcp_pose\u001b[0m\u001b[0;34m(\u001b[0m\u001b[0;34m)\u001b[0m \u001b[0;34m,\u001b[0m \u001b[0;36m3\u001b[0m \u001b[0;34m)\u001b[0m\u001b[0;34m\u001b[0m\u001b[0m\n\u001b[0m\u001b[1;32m     29\u001b[0m     \u001b[0mcur_pose\u001b[0m\u001b[0;34m[\u001b[0m\u001b[0;36m3\u001b[0m\u001b[0;34m:\u001b[0m\u001b[0;34m]\u001b[0m \u001b[0;34m=\u001b[0m \u001b[0;36m3.14\u001b[0m\u001b[0;34m,\u001b[0m \u001b[0;36m0.0\u001b[0m \u001b[0;34m,\u001b[0m \u001b[0;36m0.0\u001b[0m\u001b[0;34m\u001b[0m\u001b[0m\n\u001b[1;32m     30\u001b[0m     \u001b[0mmovel\u001b[0m\u001b[0;34m(\u001b[0m \u001b[0mcur_pose\u001b[0m \u001b[0;34m)\u001b[0m\u001b[0;34m\u001b[0m\u001b[0m\n",
      "\u001b[0;31mNameError\u001b[0m: global name 'np' is not defined"
     ]
    }
   ],
   "source": [
    "## ~~~ Common Functions ~~~\n",
    "straighten_wrist()"
   ]
  },
  {
   "cell_type": "code",
   "execution_count": null,
   "metadata": {},
   "outputs": [],
   "source": [
    "## ~~~ EDIT WAYPOINTS ~~~"
   ]
  },
  {
   "cell_type": "code",
   "execution_count": 17,
   "metadata": {},
   "outputs": [
    {
     "name": "stdout",
     "output_type": "stream",
     "text": [
      "Saved: picture_waypoints.pkl\n"
     ]
    }
   ],
   "source": [
    "pickle_struct( pose_dict , WAYPOINTPATH )"
   ]
  },
  {
   "cell_type": "code",
   "execution_count": 2,
   "metadata": {},
   "outputs": [
    {
     "name": "stdout",
     "output_type": "stream",
     "text": [
      "/home/nvidia/.local/share/jupyter\n"
     ]
    }
   ],
   "source": [
    "from jupyter_core.paths import jupyter_data_dir\n",
    "print(jupyter_data_dir())"
   ]
  },
  {
   "cell_type": "code",
   "execution_count": 2,
   "metadata": {},
   "outputs": [
    {
     "name": "stdout",
     "output_type": "stream",
     "text": [
      "2.7.12 (default, Nov 12 2018, 14:36:49) \n",
      "[GCC 5.4.0 20160609]\n",
      "sys.version_info(major=2, minor=7, micro=12, releaselevel='final', serial=0)\n"
     ]
    }
   ],
   "source": [
    "import sys\n",
    "print( sys.version )\n",
    "print( sys.version_info )"
   ]
  },
  {
   "cell_type": "code",
   "execution_count": null,
   "metadata": {},
   "outputs": [],
   "source": []
  }
 ],
 "metadata": {
  "kernelspec": {
   "display_name": "Python 2",
   "language": "python",
   "name": "python2"
  },
  "language_info": {
   "codemirror_mode": {
    "name": "ipython",
    "version": 3
   },
   "file_extension": ".py",
   "mimetype": "text/x-python",
   "name": "python",
   "nbconvert_exporter": "python",
   "pygments_lexer": "ipython3",
   "version": "3.5.2"
  }
 },
 "nbformat": 4,
 "nbformat_minor": 2
}
